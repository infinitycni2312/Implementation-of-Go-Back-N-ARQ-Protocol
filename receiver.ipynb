{
 "cells": [
  {
   "cell_type": "code",
   "execution_count": null,
   "id": "19d511b0",
   "metadata": {},
   "outputs": [
    {
     "name": "stderr",
     "output_type": "stream",
     "text": [
      "15:19:39.797 : [RECEIVE] :Recieved Packet(Seq_Num=0, Data=n) .\n",
      "15:19:39.809 : [RECEIVE] :Recieved Packet(Seq_Num=1, Data=e) .\n",
      "15:19:39.824 : [ERROR] : Packet(Seq_Num=3, Data=w)  Arrived Out of Order . \n",
      "15:19:39.827 : [ACK] :Packet(ACK_num=2)\n",
      "15:19:39.830 : [ERROR] : Packet(Seq_Num=4, Data=o)  Arrived Out of Order . \n",
      "15:19:39.833 : [ACK] :Packet(ACK_num=2)\n",
      "15:19:39.838 : [ERROR] : Packet(Seq_Num=5, Data=r)  Arrived Out of Order . \n",
      "15:19:39.842 : [ACK] :Packet(ACK_num=2)\n"
     ]
    },
    {
     "name": "stdout",
     "output_type": "stream",
     "text": [
      "Connection has been Established\n",
      "\n",
      "Appending the data :  n\n",
      "Data to network layer : ['n']\n",
      "Appending the data :  e\n",
      "Data to network layer : ['n', 'e']\n",
      "Packet is Corrupt\n",
      "Packet sent in SendPacket:  Packet(ACK_num=2)\n",
      "Packet sent in SendPacket:  Packet(ACK_num=2)\n",
      "Packet sent in SendPacket:  Packet(ACK_num=2)\n",
      "Packet is Corrupt\n"
     ]
    },
    {
     "name": "stderr",
     "output_type": "stream",
     "text": [
      "15:19:46.429 : [RECEIVE] :Recieved Packet(Seq_Num=2, Data=t) .\n",
      "15:19:46.445 : [ERROR] : Packet(Seq_Num=5, Data=r)  Arrived Out of Order . \n",
      "15:19:46.450 : [ACK] :Packet(ACK_num=3)\n",
      "15:19:46.453 : [ERROR] : Packet(Seq_Num=6, Data=k)  Arrived Out of Order . \n",
      "15:19:46.457 : [ACK] :Packet(ACK_num=3)\n"
     ]
    },
    {
     "name": "stdout",
     "output_type": "stream",
     "text": [
      "Appending the data :  t\n",
      "Data to network layer : ['n', 'e', 't']\n",
      "Packet is Corrupt\n",
      "Packet is Corrupt\n",
      "Packet sent in SendPacket:  Packet(ACK_num=3)\n",
      "Packet sent in SendPacket:  Packet(ACK_num=3)\n"
     ]
    },
    {
     "name": "stderr",
     "output_type": "stream",
     "text": [
      "15:19:51.537 : [RECEIVE] :Recieved Packet(Seq_Num=3, Data=w) .\n",
      "15:19:51.541 : [RECEIVE] :Recieved Packet(Seq_Num=4, Data=o) .\n",
      "15:19:51.549 : [RECEIVE] :Recieved Packet(Seq_Num=5, Data=r) .\n",
      "15:19:51.553 : [RECEIVE] :Recieved Packet(Seq_Num=6, Data=k) .\n"
     ]
    },
    {
     "name": "stdout",
     "output_type": "stream",
     "text": [
      "Appending the data :  w\n",
      "Data to network layer : ['n', 'e', 't', 'w']\n",
      "Appending the data :  o\n",
      "Data to network layer : ['n', 'e', 't', 'w', 'o']\n",
      "Appending the data :  r\n",
      "Data to network layer : ['n', 'e', 't', 'w', 'o', 'r']\n",
      "Appending the data :  k\n",
      "Data to network layer : ['n', 'e', 't', 'w', 'o', 'r', 'k']\n"
     ]
    },
    {
     "name": "stderr",
     "output_type": "stream",
     "text": [
      "15:19:56.610 : [ERROR] : Packet(Seq_Num=3, Data=w)  Arrived Out of Order . \n",
      "15:19:56.614 : [ACK] :Packet(ACK_num=7)\n",
      "15:19:56.617 : [ERROR] : Packet(Seq_Num=4, Data=o)  Arrived Out of Order . \n",
      "15:19:56.621 : [ACK] :Packet(ACK_num=7)\n",
      "15:19:56.624 : [ERROR] : Packet(Seq_Num=5, Data=r)  Arrived Out of Order . \n",
      "15:19:56.627 : [ACK] :Packet(ACK_num=7)\n"
     ]
    },
    {
     "name": "stdout",
     "output_type": "stream",
     "text": [
      "Packet sent in SendPacket:  Packet(ACK_num=7)\n",
      "Packet sent in SendPacket:  Packet(ACK_num=7)\n",
      "Packet sent in SendPacket:  Packet(ACK_num=7)\n",
      "Packet is Corrupt\n"
     ]
    },
    {
     "name": "stderr",
     "output_type": "stream",
     "text": [
      "15:19:59.171 : [WinError 10054] An existing connection was forcibly closed by the remote host\n",
      "15:19:59.174 : Transfer has been completed.Received 'network'\n"
     ]
    }
   ],
   "source": [
    "import threading\n",
    "import socket\n",
    "from tkinter import *\n",
    "import sys\n",
    "import random\n",
    "import logging\n",
    "logging.basicConfig(level=logging.DEBUG,format='%(asctime)s.%(msecs)-03d : %(message)s',datefmt='%H:%M:%S')\n",
    "expected_seq_num=0\n",
    "data_recved=[]\n",
    "import pickle\n",
    "from random import randint\n",
    "SEQ_NUM_BIT_WIDTH = 3\n",
    "MAX_SEQ_NUM = (2 ** SEQ_NUM_BIT_WIDTH)-1\n",
    "GBN_WINDOW_SIZE = MAX_SEQ_NUM\n",
    "class Packet:\n",
    "    TYPE_DATA_,ACK_TYPE,NACK_TYPE = range(3)\n",
    "    def __init__(self , seq_num,data='', packtype=TYPE_DATA_):\n",
    "        self.seq_num = seq_num\n",
    "        self.data = data\n",
    "        self.packtype = packtype\n",
    "        self.corrupt = 0\n",
    "    def is_corrupt(self):\n",
    "        if not self.corrupt:\n",
    "            self.corrupt = randint(1,10)\n",
    "        return self.corrupt < 3\n",
    "    def __str__(self):\n",
    "        if self.packtype == Packet.TYPE_DATA_:\n",
    "            return 'Packet(Seq_Num=%d, Data=%s) ' % (self.seq_num, str(self.data))\n",
    "        elif self.packtype == Packet.NACK_TYPE:\n",
    "            return 'Packet(NACK_Num=%d)' % self.seq_num\n",
    "        elif self.packtype == Packet.ACK_TYPE:\n",
    "            return 'Packet(ACK_num=%d)' % self.seq_num\n",
    "\n",
    "def SendPacket(sock, pack):\n",
    "        if pack is None or (sock is None or type(sock) != socket.socket):\n",
    "            return\n",
    "        pack_raw_bytes = pickle.dumps(pack)\n",
    "        dsize = len(pack_raw_bytes)\n",
    "        sock.sendall(dsize.to_bytes(4, byteorder='big'))\n",
    "        sock.sendall(pack_raw_bytes)\n",
    "        print(\"Packet sent in SendPacket: \",pack)\n",
    "        return True\n",
    "\n",
    "def read_k_bytes(sock, rem=0):\n",
    "        ret = b''\n",
    "        while rem > 0:\n",
    "            d = sock.recv(rem)\n",
    "            if len(d)<=0:\n",
    "                k=0\n",
    "                return k.to_bytes(4, byteorder='big') \n",
    "            ret += d\n",
    "            rem -= len(d)\n",
    "        return ret \n",
    "\n",
    "def ReceivePacket(sock,timeout=None ):\n",
    "        if sock is None or type(sock) != socket.socket:\n",
    "            raise TypeError('Socket Expected!')\n",
    "        if timeout is not None:\n",
    "            print(\"Receiver is a idiot!\")\n",
    "            sock.settimeout(timeout)\n",
    "        try:\n",
    "            pack_len = int.from_bytes(read_k_bytes(sock,4), 'big')\n",
    "            if pack_len==0:\n",
    "                return 0\n",
    "            sock.settimeout(None)\n",
    "            pack = pickle.loads(read_k_bytes(sock, pack_len))\n",
    "        except socket.timeout:\n",
    "                pack = None\n",
    "        finally:\n",
    "            sock.settimeout(None)\n",
    "        return pack \n",
    "    \n",
    "def To_NetworkLayer(char):\n",
    "    data_recved.append(char)\n",
    "    print(\"Data to network layer :\",data_recved)\n",
    "\n",
    "def main():\n",
    "    global expected_seq_num,data_recved,sock\n",
    "    while True:\n",
    "        try:\n",
    "        \n",
    "            pkt=ReceivePacket(sock)\n",
    "            if pkt==0:\n",
    "                break\n",
    "            if pkt.is_corrupt():\n",
    "                print(\"Packet is Corrupt\")\n",
    "                continue\n",
    "            if pkt.seq_num==expected_seq_num:\n",
    "                logging.info('[RECEIVE] :Recieved %s.'%pkt)\n",
    "                window.update()\n",
    "                str1 = \"[RECEIVE] : Recieved \" + str(pkt)+\"\\n\"\n",
    "                text.insert(END,str1)\n",
    "                expected_seq_num=(expected_seq_num+1)%(MAX_SEQ_NUM+1)\n",
    "                print(\"Appending the data : \",pkt.data)\n",
    "                To_NetworkLayer(pkt.data)\n",
    "            else:\n",
    "                logging.info('[ERROR] : %s Arrived Out of Order . '%pkt)\n",
    "                window.update()\n",
    "                str2 = \"[ERROR] : Arrived Out of order \" + str(pkt)+\"\\n\"\n",
    "                text.insert(END,str2)\n",
    "                ack_pkt=Packet(expected_seq_num,packtype=Packet.ACK_TYPE)\n",
    "                logging.info('[ACK] :%s'%ack_pkt) \n",
    "                SendPacket(sock,ack_pkt)\n",
    "        except socket.error as e:\n",
    "            logging.error(str(e))\n",
    "            break\n",
    "        except KeyboardInterrupt as e:\n",
    "            break\n",
    "def connect():\n",
    "        global data_recved,sock\n",
    "        sock = socket.socket(socket.AF_INET, socket.SOCK_STREAM)\n",
    "        host=\"172.22.33.184\"\n",
    "        sock.connect((host,7917))\n",
    "        print(\"Connection has been Established\\n\")\n",
    "        text.insert(END, \"Connection has been Established\\n\")\n",
    "        try:\n",
    "            main()\n",
    "        except ConnectionResetError:\n",
    "            pass\n",
    "        logging.info('Transfer has been completed.Received \\'%s\\'' %''.join(data_recved))\n",
    "        str4= \"\\nRecieved the message\"+ str(data_recved)\n",
    "        text.insert(END,str4)\n",
    "        sock.close()\n",
    "        sys.exit(0)\n",
    "if __name__=='__main__':\n",
    "        window = Tk()\n",
    "        window['background']='light grey'\n",
    "        text = Text(window)\n",
    "        text.grid(row = 3, column = 0)\n",
    "        text['background']='light grey'\n",
    "        Label(window,font=(\"Times New Roman\",12),borderwidth=2,relief=\"solid\",text= \"RECEIVER\").grid(row = 0, column = 0)\n",
    "        button = Button(window, text=\"Connect\", command=threading.Thread(target=connect).start)\n",
    "        button.grid(row = 2, column = 0) \n",
    "        window.mainloop()\n",
    "        \n",
    "\n",
    "\n",
    "                \n",
    "\n"
   ]
  },
  {
   "cell_type": "code",
   "execution_count": null,
   "id": "02a4a27f",
   "metadata": {},
   "outputs": [],
   "source": []
  },
  {
   "cell_type": "code",
   "execution_count": null,
   "id": "07bed59f",
   "metadata": {},
   "outputs": [],
   "source": []
  }
 ],
 "metadata": {
  "kernelspec": {
   "display_name": "Python 3 (ipykernel)",
   "language": "python",
   "name": "python3"
  },
  "language_info": {
   "codemirror_mode": {
    "name": "ipython",
    "version": 3
   },
   "file_extension": ".py",
   "mimetype": "text/x-python",
   "name": "python",
   "nbconvert_exporter": "python",
   "pygments_lexer": "ipython3",
   "version": "3.10.6"
  }
 },
 "nbformat": 4,
 "nbformat_minor": 5
}
