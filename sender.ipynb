{
 "cells": [
  {
   "cell_type": "code",
   "execution_count": 3,
   "id": "2901312d",
   "metadata": {},
   "outputs": [
    {
     "name": "stdout",
     "output_type": "stream",
     "text": [
      "network\n",
      "Started From Server\n"
     ]
    },
    {
     "name": "stderr",
     "output_type": "stream",
     "text": [
      "15:19:39.797 : [SEND] : Sending Packet(Seq_Num=0, Data=n) . \n",
      "15:19:39.814 : [SEND] : Sending Packet(Seq_Num=1, Data=e) . \n",
      "15:19:39.821 : [SEND] : Sending Packet(Seq_Num=2, Data=t) . \n",
      "15:19:39.826 : [SEND] : Sending Packet(Seq_Num=3, Data=w) . \n",
      "15:19:39.832 : [SEND] : Sending Packet(Seq_Num=4, Data=o) . \n",
      "15:19:39.836 : [SEND] : Sending Packet(Seq_Num=5, Data=r) . \n",
      "15:19:39.842 : [SEND] : Sending Packet(Seq_Num=6, Data=k) . \n"
     ]
    },
    {
     "name": "stdout",
     "output_type": "stream",
     "text": [
      "Connection Accepted\n",
      "Packet sent in SendPacket:  Packet(Seq_Num=0, Data=n) \n",
      "Send_n:  1\n",
      "Starting time\n",
      "Packet sent in SendPacket:  Packet(Seq_Num=1, Data=e) \n",
      "Send_n:  2\n",
      "Packet sent in SendPacket:  Packet(Seq_Num=2, Data=t) \n",
      "Send_n:  3\n",
      "Packet sent in SendPacket:  Packet(Seq_Num=3, Data=w) \n",
      "Send_n:  4\n",
      "Packet sent in SendPacket:  Packet(Seq_Num=4, Data=o) \n",
      "Send_n:  5\n",
      "Packet sent in SendPacket:  Packet(Seq_Num=5, Data=r) \n",
      "Send_n:  6\n",
      "Packet sent in SendPacket:  Packet(Seq_Num=6, Data=k) \n",
      "Send_n:  7\n"
     ]
    },
    {
     "name": "stderr",
     "output_type": "stream",
     "text": [
      "15:19:40.567 : [RECEIVE] : ACK recieved Packet(ACK_Num=2).Packets(0) are acknowledged .\n",
      "15:19:40.569 : [RECEIVE] : ACK recieved Packet(ACK_Num=2).Packets(0,1) are acknowledged .\n"
     ]
    },
    {
     "name": "stdout",
     "output_type": "stream",
     "text": [
      "rec_pkt_nblock called\n",
      "The received Packet is : Packet(ACK_Num=2)\n",
      "Send_f : 1\n",
      "Send_f : 2\n"
     ]
    },
    {
     "name": "stderr",
     "output_type": "stream",
     "text": [
      "15:19:43.98  : [NACK] :Invalid ACK Packet(ACK_Num=2).\n"
     ]
    },
    {
     "name": "stdout",
     "output_type": "stream",
     "text": [
      "rec_pkt_nblock called\n",
      "The received Packet is : Packet(ACK_Num=2)\n"
     ]
    },
    {
     "name": "stderr",
     "output_type": "stream",
     "text": [
      "15:19:45.618 : [NACK] :Invalid ACK Packet(ACK_Num=2).\n"
     ]
    },
    {
     "name": "stdout",
     "output_type": "stream",
     "text": [
      "rec_pkt_nblock called\n",
      "The received Packet is : Packet(ACK_Num=2)\n"
     ]
    },
    {
     "name": "stderr",
     "output_type": "stream",
     "text": [
      "15:19:46.424 : [TIMEOUT] : Resending Packet(Seq_Num=2, Data=t) .\n",
      "15:19:46.429 : [TIMEOUT] : Resending Packet(Seq_Num=3, Data=w) .\n",
      "15:19:46.435 : [TIMEOUT] : Resending Packet(Seq_Num=4, Data=o) .\n",
      "15:19:46.440 : [TIMEOUT] : Resending Packet(Seq_Num=5, Data=r) .\n",
      "15:19:46.445 : [TIMEOUT] : Resending Packet(Seq_Num=6, Data=k) .\n"
     ]
    },
    {
     "name": "stdout",
     "output_type": "stream",
     "text": [
      "Packet sent in SendPacket:  Packet(Seq_Num=2, Data=t) \n",
      "Packet sent in SendPacket:  Packet(Seq_Num=3, Data=w) \n",
      "Packet sent in SendPacket:  Packet(Seq_Num=4, Data=o) \n",
      "Packet sent in SendPacket:  Packet(Seq_Num=5, Data=r) \n",
      "Packet sent in SendPacket:  Packet(Seq_Num=6, Data=k) \n",
      "Starting time\n"
     ]
    },
    {
     "name": "stderr",
     "output_type": "stream",
     "text": [
      "15:19:48.169 : [RECEIVE] : ACK recieved Packet(ACK_Num=3).Packets(2) are acknowledged .\n"
     ]
    },
    {
     "name": "stdout",
     "output_type": "stream",
     "text": [
      "rec_pkt_nblock called\n",
      "The received Packet is : Packet(ACK_Num=3)\n",
      "Send_f : 3\n"
     ]
    },
    {
     "name": "stderr",
     "output_type": "stream",
     "text": [
      "15:19:50.724 : [NACK] :Invalid ACK Packet(ACK_Num=3).\n"
     ]
    },
    {
     "name": "stdout",
     "output_type": "stream",
     "text": [
      "rec_pkt_nblock called\n",
      "The received Packet is : Packet(ACK_Num=3)\n"
     ]
    },
    {
     "name": "stderr",
     "output_type": "stream",
     "text": [
      "15:19:51.531 : [TIMEOUT] : Resending Packet(Seq_Num=3, Data=w) .\n",
      "15:19:51.537 : [TIMEOUT] : Resending Packet(Seq_Num=4, Data=o) .\n",
      "15:19:51.541 : [TIMEOUT] : Resending Packet(Seq_Num=5, Data=r) .\n",
      "15:19:51.548 : [TIMEOUT] : Resending Packet(Seq_Num=6, Data=k) .\n"
     ]
    },
    {
     "name": "stdout",
     "output_type": "stream",
     "text": [
      "Packet sent in SendPacket:  Packet(Seq_Num=3, Data=w) \n",
      "Packet sent in SendPacket:  Packet(Seq_Num=4, Data=o) \n",
      "Packet sent in SendPacket:  Packet(Seq_Num=5, Data=r) \n",
      "Packet sent in SendPacket:  Packet(Seq_Num=6, Data=k) \n",
      "Starting time\n",
      "rec_pkt_nblock called\n",
      "The received Packet is : None\n",
      "rec_pkt_nblock called\n",
      "The received Packet is : None\n"
     ]
    },
    {
     "name": "stderr",
     "output_type": "stream",
     "text": [
      "15:19:56.603 : [TIMEOUT] : Resending Packet(Seq_Num=3, Data=w) .\n",
      "15:19:56.610 : [TIMEOUT] : Resending Packet(Seq_Num=4, Data=o) .\n",
      "15:19:56.614 : [TIMEOUT] : Resending Packet(Seq_Num=5, Data=r) .\n",
      "15:19:56.619 : [TIMEOUT] : Resending Packet(Seq_Num=6, Data=k) .\n"
     ]
    },
    {
     "name": "stdout",
     "output_type": "stream",
     "text": [
      "Packet sent in SendPacket:  Packet(Seq_Num=3, Data=w) \n",
      "Packet sent in SendPacket:  Packet(Seq_Num=4, Data=o) \n",
      "Packet sent in SendPacket:  Packet(Seq_Num=5, Data=r) \n",
      "Packet sent in SendPacket:  Packet(Seq_Num=6, Data=k) \n",
      "Starting time\n"
     ]
    },
    {
     "name": "stderr",
     "output_type": "stream",
     "text": [
      "15:19:58.345 : [RECEIVE] : ACK recieved Packet(ACK_Num=7).Packets(3) are acknowledged .\n",
      "15:19:58.347 : [RECEIVE] : ACK recieved Packet(ACK_Num=7).Packets(3,4) are acknowledged .\n",
      "15:19:58.350 : [RECEIVE] : ACK recieved Packet(ACK_Num=7).Packets(3,4,5) are acknowledged .\n",
      "15:19:58.352 : [RECEIVE] : ACK recieved Packet(ACK_Num=7).Packets(3,4,5,6) are acknowledged .\n"
     ]
    },
    {
     "name": "stdout",
     "output_type": "stream",
     "text": [
      "rec_pkt_nblock called\n",
      "The received Packet is : Packet(ACK_Num=7)\n",
      "Send_f : 4\n",
      "Send_f : 5\n",
      "Send_f : 6\n",
      "Send_f : 7\n"
     ]
    },
    {
     "name": "stderr",
     "output_type": "stream",
     "text": [
      "15:19:59.166 : Transfer Completed\n"
     ]
    },
    {
     "name": "stdout",
     "output_type": "stream",
     "text": [
      "Connection is closing \n"
     ]
    }
   ],
   "source": [
    "from tkinter import *\n",
    "import socket\n",
    "import sys\n",
    "import os\n",
    "import logging\n",
    "from threading import *\n",
    "from math import floor\n",
    "from time import time,sleep\n",
    "from collections import deque\n",
    "import socket\n",
    "import pickle\n",
    "from random import randint\n",
    "SEQ_NUM_BIT_WIDTH = 3\n",
    "MAX_SEQ_NUM = (2 ** SEQ_NUM_BIT_WIDTH)-1\n",
    "GBN_WINDOW_SIZE = MAX_SEQ_NUM\n",
    "\n",
    "class Packet:\n",
    "    TYPE_DATA_,ACK_TYPE,NACK_TYPE = range(3)\n",
    "    def __init__(self ,seq_num,data='', packtype=TYPE_DATA_):\n",
    "        self.seq_num = seq_num\n",
    "        self.data = data\n",
    "        self.packtype = packtype\n",
    "        self.corrupt = 0\n",
    "    def is_corrupt(self):\n",
    "        if not self.corrupt:\n",
    "            self.corrupt = randint(1,10)\n",
    "        return self.corrupt < 3\n",
    "    def __str__(self):\n",
    "        if self.packtype == Packet.TYPE_DATA_:\n",
    "            return 'Packet(Seq_Num=%d, Data=%s) ' % (self.seq_num, str(self.data))\n",
    "        elif self.packtype == Packet.NACK_TYPE:\n",
    "            return 'Packet(NACK_Num=%d)' % self.seq_num\n",
    "        elif self.packtype == Packet.ACK_TYPE:\n",
    "            return 'Packet(ACK_Num=%d)' % self.seq_num\n",
    "\n",
    "def SendPacket(sock, pack):\n",
    "        if pack is None or (sock is None or type(sock) != socket.socket):\n",
    "            return\n",
    "        pack_raw_bytes = pickle.dumps(pack)\n",
    "        dsize = len(pack_raw_bytes)\n",
    "        sock.sendall(dsize.to_bytes(4, byteorder='big'))\n",
    "        sock.sendall(pack_raw_bytes)\n",
    "        print(\"Packet sent in SendPacket: \",pack)\n",
    "        return True        \n",
    "\n",
    "def read_k_bytes(sock, rem=0): \n",
    "        ret = b''\n",
    "        while rem > 0:\n",
    "            d = sock.recv(rem) \n",
    "            if len(d)<=0:\n",
    "                k=0\n",
    "                return k.to_bytes(4, byteorder='big')\n",
    "            ret += d \n",
    "            rem -= len(d)\n",
    "        return ret\n",
    "\n",
    "def rec_pkt_nblock(sock):\n",
    "        sock.setblocking(False)\n",
    "        try:\n",
    "            print(\"rec_pkt_nblock called\")\n",
    "            size = int.from_bytes(read_k_bytes(sock,4), 'big') \n",
    "            sock.setblocking(True)\n",
    "            return pickle.loads(read_k_bytes(sock, size))   \n",
    "        except BlockingIOError as be:\n",
    "            return None\n",
    "        finally:\n",
    "            sock.setblocking(True)\n",
    "\n",
    "sock=None\n",
    "pbuffer=deque([],maxlen=GBN_WINDOW_SIZE) \n",
    "Send_f,Send_n=0,0 \n",
    "message,msg_length='',0\n",
    "client=None\n",
    "ACK_WAIT_TIME=5000\n",
    "logging.basicConfig(level=logging.DEBUG,format='%(asctime)s.%(msecs)-03d : %(message)s',datefmt='%H:%M:%S')\n",
    "class b_timer:\n",
    "    def __init__(self):\n",
    "        self.start_time=None\n",
    "    def start(self,interval):\n",
    "        print(\"Starting time\")\n",
    "        self.start_time=b_timer.current_time_in_millisec()\n",
    "        self.interval=interval\n",
    "    def has_timeout_occured(self):\n",
    "        cur_time=b_timer.current_time_in_millisec()\n",
    "        return (cur_time-self.start_time)>self.interval\n",
    "    def is_running(self):\n",
    "        return self.start_time!=None\n",
    "    def stop(self):\n",
    "        self.start_time=None\n",
    "        self.interval=None\n",
    "    def restart(self,interval):\n",
    "        self.start(interval)\n",
    "    @staticmethod\n",
    "    def current_time_in_millisec():\n",
    "        return int(floor(time()*1000))\n",
    "    def outstanding_frames():\n",
    "        return len(pbuffer) #upto date ack no\n",
    "    def is_valid_ackno(ack_no):\n",
    "        if b_timer.outstanding_frames()<=0:\n",
    "            return False\n",
    "        t=(Send_f+1)%(MAX_SEQ_NUM+1)\n",
    "        while t!=Send_n:\n",
    "            if t==ack_no :\n",
    "                return True\n",
    "            t=(t+1)%(MAX_SEQ_NUM+1)\n",
    "        return ack_no==Send_n\n",
    "def main():\n",
    "        global pbuffer,client,Send_n,Send_f\n",
    "        timer = b_timer()\n",
    "        next_msg_index = 0 \n",
    "        while 1:\n",
    "            while b_timer.outstanding_frames()<GBN_WINDOW_SIZE and next_msg_index < msg_length:\n",
    "                pack=Packet(Send_n,data=message[next_msg_index])\n",
    "                SendPacket(client,pack)\n",
    "                window.update()\n",
    "                logging.info('[SEND] : Sending %s. '%pack)\n",
    "                str1 = \"[SEND] : Sending \" + str(pack)+'\\n'\n",
    "                window.update()\n",
    "\n",
    "                text.insert(END,str1)\n",
    "                pbuffer.append(pack)\n",
    "                Send_n=(Send_n+1)%(MAX_SEQ_NUM+1)\n",
    "                print(\"Send_n: \",Send_n)\n",
    "                if not timer.is_running():\n",
    "                    #Pipelining\n",
    "                    timer.start(ACK_WAIT_TIME)\n",
    "                next_msg_index+=1\n",
    "            sleep(.7)\n",
    "            window.update()\n",
    "            resp=rec_pkt_nblock(client)\n",
    "            print(\"The received Packet is :\",resp)\n",
    "            str2 = \"[RECV] : Recieved \" + str(resp)+\"\\n\"\n",
    "            window.update()\n",
    "            text.insert(END,str2)\n",
    "            if resp is not None and not resp.is_corrupt():\n",
    "                if not b_timer.is_valid_ackno(resp.seq_num):\n",
    "                    logging.info('[NACK] :Invalid ACK %s.'%resp)\n",
    "                    str3 = \"[NACK] : Recieved \" + str(resp)+'\\n'\n",
    "                    text.insert(END,str3)\n",
    "\n",
    "                else:\n",
    "                    temp=[] \n",
    "                    while len(pbuffer)>0 and pbuffer[0].seq_num!=resp.seq_num:\n",
    "                        #sliding the window\n",
    "                        temp.append(str(pbuffer.popleft().seq_num)) \n",
    "                        Send_f=(Send_f+1)%(MAX_SEQ_NUM+1) \n",
    "                        print(\"Send_f :\",Send_f)\n",
    "                        logging.info(('[RECEIVE] : ACK recieved %s.'+'Packets(%s) are acknowledged .')%(resp,','.join(temp)))\n",
    "                        str4=\"[RECEIVE] : ACK Recieved for :\"+str(resp)+\" Packets Acknowledged \"+ str(temp)\n",
    " \n",
    "            sleep(.8)\n",
    "            if timer.has_timeout_occured():\n",
    "                for p in pbuffer:\n",
    "                    logging.info('[TIMEOUT] : Resending %s.'%p)\n",
    "                    str5=\"[TIMEOUT] : Resending \" + str(p) + \"\\n\"\n",
    "                    window.update()\n",
    "                    text.insert(END, str5)\n",
    "                    SendPacket(client,p)\n",
    "                timer.start(ACK_WAIT_TIME)\n",
    "            if b_timer.outstanding_frames()==0 and next_msg_index>=msg_length:\n",
    "                logging.info('Transfer Completed')\n",
    "                window.update()\n",
    "                text.insert(END, \"\\nTransfer Completed\")\n",
    "                break\n",
    "            sleep(1)\n",
    "def submit():\n",
    "            global message,msg_length,client\n",
    "            message = var.get()\n",
    "            print(message)\n",
    "            msg_length=len(message)\n",
    "            print(\"Started From Server\")\n",
    "            text.insert(END, \"Started From Server \\n\")\n",
    "            sock=socket.socket(socket.AF_INET, socket.SOCK_STREAM)\n",
    "            port=7917\n",
    "            ip=socket.gethostname()\n",
    "            sock.bind(('',port))\n",
    "            sock.listen(5)\n",
    "            client,_addr=sock.accept()\n",
    "            print(\"Connection Accepted\")\n",
    "            window.update()\n",
    "            main()\n",
    "            print(\"Connection is closing \")\n",
    "            text.insert(END, \"\\nConnection is closing \")\n",
    "            sock.close()\n",
    "            client.close()\n",
    "if __name__=='__main__':\n",
    "                window = Tk()\n",
    "                window.geometry(\"900x557\")\n",
    "                Label(window,font=(\"Times New Roman\",12),borderwidth=2,relief=\"solid\",text= \"SENDER\").grid(row = 0, column = 0)\n",
    "                Label(window,borderwidth=1,relief=\"solid\",text= \"ENTER A WORD \").grid(row = 1, column = 1)\n",
    "                var = StringVar()\n",
    "                window['background']='light grey'\n",
    "                Entry(window, textvariable = var, width= 50,borderwidth = 5).grid(row = 2, column = 1) \n",
    "                text = Text(window,borderwidth=1,relief=\"solid\")\n",
    "                text['background']='light grey' \n",
    "                text.grid(row = 3, column = 0)\n",
    "                text.configure(height=30)\n",
    "                button = Button(window,text=\"SUBMIT\",command=submit)\n",
    "                button.grid(row = 2, column = 0)\n",
    "                window.mainloop()\n",
    "                \n",
    "\n",
    "\n",
    "\n",
    "\n"
   ]
  },
  {
   "cell_type": "code",
   "execution_count": null,
   "id": "b79f133d",
   "metadata": {},
   "outputs": [],
   "source": []
  },
  {
   "cell_type": "code",
   "execution_count": null,
   "id": "82f4c6cc",
   "metadata": {},
   "outputs": [],
   "source": []
  }
 ],
 "metadata": {
  "kernelspec": {
   "display_name": "Python 3 (ipykernel)",
   "language": "python",
   "name": "python3"
  },
  "language_info": {
   "codemirror_mode": {
    "name": "ipython",
    "version": 3
   },
   "file_extension": ".py",
   "mimetype": "text/x-python",
   "name": "python",
   "nbconvert_exporter": "python",
   "pygments_lexer": "ipython3",
   "version": "3.10.6"
  }
 },
 "nbformat": 4,
 "nbformat_minor": 5
}
